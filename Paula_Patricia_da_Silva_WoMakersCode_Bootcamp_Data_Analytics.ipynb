{
  "nbformat": 4,
  "nbformat_minor": 0,
  "metadata": {
    "colab": {
      "provenance": [],
      "include_colab_link": true
    },
    "kernelspec": {
      "name": "python3",
      "display_name": "Python 3"
    },
    "language_info": {
      "name": "python"
    }
  },
  "cells": [
    {
      "cell_type": "markdown",
      "metadata": {
        "id": "view-in-github",
        "colab_type": "text"
      },
      "source": [
        "<a href=\"https://colab.research.google.com/github/ppfsil/exercicios_python/blob/master/Paula_Patricia_da_Silva_WoMakersCode_Bootcamp_Data_Analytics.ipynb\" target=\"_parent\"><img src=\"https://colab.research.google.com/assets/colab-badge.svg\" alt=\"Open In Colab\"/></a>"
      ]
    },
    {
      "cell_type": "markdown",
      "source": [
        "DESAFIO 1\n",
        "\n",
        "Crie um programa que solicita ao usuário que insira três notas (valores de 0 a 10) e, em seguida, calcule e exiba a média dessas notas.\n",
        "\n",
        "Além disso, informe ao usuário se ele foi aprovado ou reprovado com base na média das notas, considerando a média mínima de aprovação como 6."
      ],
      "metadata": {
        "id": "sdBUCCdzeef3"
      }
    },
    {
      "cell_type": "code",
      "source": [
        "#Solicitar as tres notas do usuario\n",
        "nota1 = float(input(\"Digite a primeira nota (de 0 a 10): \"))\n",
        "nota2 = float(input(\"Digite a segunda nota (de 0 a 10): \"))\n",
        "nota3 = float(input(\"Digite a terceira nota (de 0 a 10): \"))\n",
        "#Calcular a média das notas\n",
        "media = (nota1 + nota2 + nota3) / 3\n",
        "#Exibir a media\n",
        "print(f\"A média das notas é: {media:.2f}\")\n",
        "# Verificar se o aluno foi aprovado ou reprovado\n",
        "if media >= 6:\n",
        "    print(\"Parabéns Você foi aprovado!\")\n",
        "else:\n",
        "    print(\"Que pena! Você foi reprovado :(\")\n"
      ],
      "metadata": {
        "id": "j16D0tJ4evJ-",
        "colab": {
          "base_uri": "https://localhost:8080/"
        },
        "outputId": "2175f81d-3ed4-4545-8190-baee7b2fbbb4"
      },
      "execution_count": null,
      "outputs": [
        {
          "output_type": "stream",
          "name": "stdout",
          "text": [
            "Digite a primeira nota (de 0 a 10): 8\n",
            "Digite a segunda nota (de 0 a 10): 4\n",
            "Digite a terceira nota (de 0 a 10): 2\n",
            "A média das notas é: 4.67\n",
            "Que pena! Você foi reprovado :(\n"
          ]
        }
      ]
    },
    {
      "cell_type": "markdown",
      "source": [
        "DESAFIO 2\n",
        "\n",
        "Crie um programa que solicita ao usuário que insira um número inteiro e, em seguida, verifica se o número é par ou ímpar.\n",
        "\n",
        "O programa deve exibir uma mensagem indicando se o número é par ou ímpar."
      ],
      "metadata": {
        "id": "ClKDF5t4gEyu"
      }
    },
    {
      "cell_type": "code",
      "source": [
        "#Solicitar um numero inteiro ao usuario\n",
        "numero = int(input(\"Digite um número inteiro: \"))\n",
        "#Verificar se o número digitado é par ou impar\n",
        "if numero % 2 == 0:\n",
        "    print(f\"O número {numero} digitado é par.\")\n",
        "else:\n",
        "    print(f\"O número {numero} digitado é impar.\")"
      ],
      "metadata": {
        "id": "GWkFk92kfuiO",
        "colab": {
          "base_uri": "https://localhost:8080/"
        },
        "outputId": "fc13f267-bcaf-412d-8cea-78a46937cf73"
      },
      "execution_count": null,
      "outputs": [
        {
          "output_type": "stream",
          "name": "stdout",
          "text": [
            "Digite um número inteiro: 12\n",
            "O número 12 digitado é par.\n"
          ]
        }
      ]
    },
    {
      "cell_type": "markdown",
      "source": [
        "DESAFIO 3\n",
        "\n",
        "Crie um programa que verifica se uma palavra fornecida pelo usuário é um palíndromo ou não.\n",
        "\n",
        "(Um palíndromo é uma palavra que é lida da mesma forma tanto da esquerda para a direita quanto da direita para a esquerda.)"
      ],
      "metadata": {
        "id": "MmsZIAj-e0NX"
      }
    },
    {
      "cell_type": "code",
      "source": [
        "#Solicitar uma palavra ao usuario\n",
        "palavra = input(\"Digite uma palavra: \")\n",
        "#Verificar se a palavra é um palindromo\n",
        "palavra_invertida = palavra[::-1]\n",
        "if palavra.lower() == palavra_invertida.lower():\n",
        "    print(f\"A palavra '{palavra}' é um palíndromo\")\n",
        "else:\n",
        "    print(f\"A palavra '{palavra}' não é um palíndromo\")\n",
        "\n",
        "\n"
      ],
      "metadata": {
        "id": "PobFqQqafLNj",
        "colab": {
          "base_uri": "https://localhost:8080/"
        },
        "outputId": "e503d788-7434-40f6-d3ce-ae090ee5285a"
      },
      "execution_count": null,
      "outputs": [
        {
          "output_type": "stream",
          "name": "stdout",
          "text": [
            "Digite uma palavra: casa\n",
            "A palavra 'casa' não é um palíndromo\n"
          ]
        }
      ]
    },
    {
      "cell_type": "markdown",
      "source": [
        "DESAFIO 4\n",
        "\n",
        "Crie um programa que solicita ao usuário que insira um número inteiro positivo e, em seguida, calcula e exibe o fatorial desse número.\n",
        "\n",
        "(O fatorial de um número é o produto de todos os números inteiros positivos de 1 até o próprio número.)"
      ],
      "metadata": {
        "id": "9WPRqUfIgLQK"
      }
    },
    {
      "cell_type": "code",
      "source": [
        "#Solicitar ao usuario um número inteiro positivo\n",
        "numero = int(input(\"Digite um número inteiro positivo: \"))\n",
        "#Verificar se o número é positivo\n",
        "if numero < 0:\n",
        "    print(\"O número digitado precisa ser positivo\")\n",
        "else:\n",
        "    #Calcular o fatorial\n",
        "    fatorial = 1\n",
        "    #Realizar o loop\n",
        "    for i in range(1, numero + 1):\n",
        "        fatorial *= i\n",
        "        #Exibir o resultado\n",
        "        print(f\"O fatorial de {numero} é {fatorial}.\")\n"
      ],
      "metadata": {
        "id": "B3VE36bRgJWu",
        "colab": {
          "base_uri": "https://localhost:8080/"
        },
        "outputId": "3820cf54-0163-4ecf-9626-344d7a73fc93"
      },
      "execution_count": null,
      "outputs": [
        {
          "output_type": "stream",
          "name": "stdout",
          "text": [
            "Digite um número inteiro positivo: 10\n",
            "O fatorial de 10 é 1.\n",
            "O fatorial de 10 é 2.\n",
            "O fatorial de 10 é 6.\n",
            "O fatorial de 10 é 24.\n",
            "O fatorial de 10 é 120.\n",
            "O fatorial de 10 é 720.\n",
            "O fatorial de 10 é 5040.\n",
            "O fatorial de 10 é 40320.\n",
            "O fatorial de 10 é 362880.\n",
            "O fatorial de 10 é 3628800.\n"
          ]
        }
      ]
    },
    {
      "cell_type": "markdown",
      "source": [
        "DESAFIO 5\n",
        "\n",
        "Crie um programa que permita ao usuário gerenciar suas tarefas diárias. O programa deve oferecer as seguintes funcionalidades:\n",
        "\n",
        "*   Adicionar uma nova tarefa;\n",
        "*   Visualizar todas as tarefas;\n",
        "*   Marcar uma tarefa como concluída;\n",
        "*   Remover uma tarefa;\n",
        "*   Sair do programa.\n",
        "\n",
        "(Você pode implementar essas funcionalidades usando listas para armazenar as tarefas e estruturas de controle como loops e condicionais para interagir com o usuário.)"
      ],
      "metadata": {
        "id": "dLmeFEi2fO9f"
      }
    },
    {
      "cell_type": "code",
      "source": [
        "# Lista vazia para armazenar as tarefas\n",
        "tarefas = []\n",
        "\n",
        "while True:\n",
        "    # Mostrar um menu com 5 opções\n",
        "    print(\"\\nGerenciador de Tarefas Diárias\")\n",
        "    print(\"1 - Adicionar uma Nova Tarefa\")\n",
        "    print(\"2 - Visualizar Todas as Tarefas\")\n",
        "    print(\"3 - Marcar Tarefa como Concluída\")\n",
        "    print(\"4 - Remover uma Tarefa\")\n",
        "    print(\"5 - Sair do Gerenciador\")\n",
        "\n",
        "    # Solicitar ao usuário escolher uma opção - precisa ser número\n",
        "    opcao = input(\"Digite a opção desejada: \")\n",
        "\n",
        "    # Executar a opção selecionada\n",
        "    if opcao == \"1\":\n",
        "        # Adicionar uma nova tarefa e exibir mensagem de sucesso\n",
        "        nova_tarefa = input(\"Digite uma nova Tarefa: \")\n",
        "        tarefas.append(nova_tarefa)\n",
        "        print(\"Tarefa Adicionada com Sucesso!\")\n",
        "    elif opcao == \"2\":\n",
        "        # Visualizar todas as tarefas\n",
        "        if len(tarefas) == 0:\n",
        "            print(\"Não há tarefas Registradas\")\n",
        "        else:\n",
        "            print(\"\\nTarefas:\")\n",
        "            for i, tarefa in enumerate(tarefas):\n",
        "                print(f\"{i+1}. {'[Concluída]' if tarefa.startswith('5*') else ''} {tarefa}\")\n",
        "    elif opcao == \"3\":\n",
        "        # Marcar uma tarefa como concluída\n",
        "        if len(tarefas) == 0:\n",
        "            print(\"Não há Tarefas Registradas.\")\n",
        "        else:\n",
        "            print(\"\\nTarefas:\")\n",
        "            for i, tarefa in enumerate(tarefas):\n",
        "                print(f\"{i+1}. {'[Concluída]' if tarefa.startswith('*') else ''} {tarefa}\")\n",
        "            indice = int(input(\"Digite o número da tarefa que deseja marcar como Concluída:\"))\n",
        "            if indice < 1 or indice > len(tarefas):\n",
        "                print(\"Opção Inválida\")\n",
        "            else:\n",
        "                tarefas[indice-1] = \"*\" + tarefas[indice-1]\n",
        "                print(\"Tarefa Marcada como Concluída\")\n",
        "    elif opcao == \"4\":\n",
        "        # Remover tarefa\n",
        "        if len(tarefas) == 0:\n",
        "            print(\"Não há Tarefas Registradas.\")\n",
        "        else:\n",
        "            print(\"\\nTarefas:\")\n",
        "            for i, tarefa in enumerate(tarefas):\n",
        "                print(f\"{i+1}. {'[Concluída]' if tarefa.startswith('*') else ''} {tarefa}\")\n",
        "            indice = int(input(\"Digite o número da tarefa que deseja remover:\"))\n",
        "            if indice < 1 or indice > len(tarefas):\n",
        "                print(\"Opção Inválida\")\n",
        "            else:\n",
        "                tarefa_removida = tarefas.pop(indice-1)\n",
        "                print(f\"Tarefa '{tarefa_removida}' Removida com Sucesso!\")\n",
        "    elif opcao == \"5\":\n",
        "        # Sair do Gerenciador\n",
        "        print(\"Saindo do Gerenciador...\")\n",
        "        break\n",
        "    else:\n",
        "        print(\"Opção Inválida! Tente Novamente.\")\n",
        "\n"
      ],
      "metadata": {
        "id": "8oExqSgagGzn",
        "colab": {
          "base_uri": "https://localhost:8080/"
        },
        "outputId": "27c7307f-7fd2-41ba-e600-40f77cca6b71"
      },
      "execution_count": null,
      "outputs": [
        {
          "output_type": "stream",
          "name": "stdout",
          "text": [
            "\n",
            "Gerenciador de Tarefas Diárias\n",
            "1 - Adicionar uma Nova Tarefa\n",
            "2 - Visualizar Todas as Tarefas\n",
            "3 - Marcar Tarefa como Concluída\n",
            "4 - Remover uma Tarefa\n",
            "5 - Sair do Gerenciador\n",
            "Digite a opção desejada: 1\n",
            "Digite uma nova Tarefa: Tomar Café\n",
            "Tarefa Adicionada com Sucesso!\n",
            "\n",
            "Gerenciador de Tarefas Diárias\n",
            "1 - Adicionar uma Nova Tarefa\n",
            "2 - Visualizar Todas as Tarefas\n",
            "3 - Marcar Tarefa como Concluída\n",
            "4 - Remover uma Tarefa\n",
            "5 - Sair do Gerenciador\n",
            "Digite a opção desejada: 2\n",
            "\n",
            "Tarefas:\n",
            "1.  Tomar Café\n",
            "\n",
            "Gerenciador de Tarefas Diárias\n",
            "1 - Adicionar uma Nova Tarefa\n",
            "2 - Visualizar Todas as Tarefas\n",
            "3 - Marcar Tarefa como Concluída\n",
            "4 - Remover uma Tarefa\n",
            "5 - Sair do Gerenciador\n",
            "Digite a opção desejada: 3\n",
            "\n",
            "Tarefas:\n",
            "1.  Tomar Café\n",
            "Digite o número da tarefa que deseja marcar como Concluída:1\n",
            "Tarefa Marcada como Concluída\n",
            "\n",
            "Gerenciador de Tarefas Diárias\n",
            "1 - Adicionar uma Nova Tarefa\n",
            "2 - Visualizar Todas as Tarefas\n",
            "3 - Marcar Tarefa como Concluída\n",
            "4 - Remover uma Tarefa\n",
            "5 - Sair do Gerenciador\n",
            "Digite a opção desejada: 5\n",
            "Saindo do Gerenciador...\n"
          ]
        }
      ]
    }
  ]
}